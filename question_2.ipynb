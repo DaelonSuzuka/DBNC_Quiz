{
 "cells": [
  {
   "cell_type": "code",
   "execution_count": 1,
   "metadata": {},
   "outputs": [],
   "source": [
    "import pandas as pd\n",
    "import random\n",
    "import matplotlib.pyplot as plt\n",
    "random.seed(42069)"
   ]
  },
  {
   "cell_type": "code",
   "execution_count": 2,
   "metadata": {},
   "outputs": [],
   "source": [
    "\n",
    "data = pd.read_csv('quiz.csv', names=['input', 'output'])\n",
    "data['output'] = data['output'].str.strip()"
   ]
  },
  {
   "cell_type": "code",
   "execution_count": 3,
   "metadata": {},
   "outputs": [],
   "source": [
    "BASE_ALPHABET = list(\"0123456789abcdefghijklmnopqrstuvwxyzABCDEFGHIJKLMNOPQRSTUVWXYZ\")\n",
    "random.shuffle(BASE_ALPHABET)\n",
    "BASE_ALPHABET = ''.join(BASE_ALPHABET)"
   ]
  },
  {
   "cell_type": "code",
   "execution_count": 11,
   "metadata": {},
   "outputs": [],
   "source": [
    "class CipherGeneration:\n",
    "    def __init__(self, alphabet=BASE_ALPHABET, data=None) -> None:\n",
    "        self.alphabet = alphabet\n",
    "        self.data = data\n",
    "\n",
    "    def decode(self, string=''):\n",
    "        base = len(self.alphabet)\n",
    "        strlen = len(string)\n",
    "        num = 0\n",
    "\n",
    "        for i, char in enumerate(string):\n",
    "            power = strlen - (i + 1)\n",
    "            num += self.alphabet.index(char) * (base ** power)\n",
    "\n",
    "        return num\n",
    "\n",
    "    def get_mutation(self):\n",
    "        new = CipherGeneration(self.alphabet, self.data)\n",
    "\n",
    "        alphabet_list = list(new.alphabet)\n",
    "        char1 = random.choice(range(len(new.alphabet)))\n",
    "        char2 = random.choice(range(len(new.alphabet)))\n",
    "\n",
    "        alphabet_list[char1], alphabet_list[char2] =  alphabet_list[char2], alphabet_list[char1]\n",
    "        new.alphabet = ''.join(alphabet_list)\n",
    "        \n",
    "        return new\n",
    "\n",
    "    def score(self):\n",
    "        transformed_data = self.data['output'].apply(self.decode)\n",
    "        score = ((self.data['input'] - transformed_data) ** 2).sum()\n",
    "\n",
    "        return -score\n",
    "\n",
    "\n",
    "class Runner:\n",
    "    def __init__(self, organism) -> None:\n",
    "        self.original = organism\n",
    "        self.best_mutation = None\n",
    "        self.best_score = 0\n",
    "        self.generations = []\n",
    "        \n",
    "    def search(self, n: int, m: int) -> None:\n",
    "        current_generation = self.original.get_mutation()\n",
    "        self.generations.append(current_generation)\n",
    "\n",
    "        for _ in range(m):\n",
    "            mutations = [current_generation.get_mutation() for _ in range(n)]\n",
    "            scores = [mutation.score() for mutation in mutations]\n",
    "            best_mutation = mutations[scores.index(max(scores))]\n",
    "            best_score = best_mutation.score()\n",
    "            self.generations.append(best_mutation)\n",
    "\n",
    "            if best_score > self.best_score:\n",
    "                self.best_mutation = best_mutation\n",
    "                self.best_score = best_score\n",
    "\n",
    "            if best_score == 0:\n",
    "                break\n",
    "\n",
    "            current_generation = best_mutation\n",
    "                \n",
    "    def plot_scores(self, save_path=''):\n",
    "        gen_scores = [gen.score() for gen in self.generations]\n",
    "        plt.scatter(range(len(gen_scores)), gen_scores)\n",
    "        plt.ylabel('Score (Higher Better)')\n",
    "        plt.xlabel('Generation')"
   ]
  },
  {
   "cell_type": "code",
   "execution_count": 13,
   "metadata": {},
   "outputs": [
    {
     "name": "stdout",
     "output_type": "stream",
     "text": [
      "0\n",
      "C7xicPMGvzAZyTNodmwnV5D3B6H0Oup8E21W9sqLQX4YjSeUhIRJgafFtrKlbk\n"
     ]
    },
    {
     "data": {
      "image/png": "[encoded data removed]",
      "text/plain": [
       "<Figure size 640x480 with 1 Axes>"
      ]
     },
     "metadata": {},
     "output_type": "display_data"
    }
   ],
   "source": [
    "runner = Runner(CipherGeneration(data=data))\n",
    "runner.search(300, 500)\n",
    "\n",
    "print(runner.generations[-1].score())\n",
    "print(runner.generations[-1].alphabet)\n",
    "runner.plot_scores()"
   ]
  },
  {
   "cell_type": "code",
   "execution_count": 14,
   "metadata": {},
   "outputs": [
    {
     "name": "stdout",
     "output_type": "stream",
     "text": [
      "cmW cmW\n",
      "cmW cmW\n",
      "cX3 cX3\n",
      "cXB cXB\n",
      "ctR ctR\n"
     ]
    }
   ],
   "source": [
    "alphabet = runner.generations[-1].alphabet\n",
    "\n",
    "\n",
    "def encode(num):\n",
    "    if num == 0:\n",
    "        return alphabet[0]\n",
    "    arr = []\n",
    "\n",
    "    base = len(alphabet)\n",
    "    while num:\n",
    "        num, rem = divmod(num, base)\n",
    "        arr.append(alphabet[rem])\n",
    "    arr.reverse()\n",
    "    return ''.join(arr)\n",
    "\n",
    "print(encode(16465), 'cmW')\n",
    "print(encode(16465), 'cmW')\n",
    "print(encode(17941), 'cX3')\n",
    "print(encode(17942), 'cXB')\n",
    "print(encode(18898), 'ctR')"
   ]
  },
  {
   "cell_type": "code",
   "execution_count": 15,
   "metadata": {},
   "outputs": [
    {
     "name": "stdout",
     "output_type": "stream",
     "text": [
      "30001 GIF\n",
      "55555 NOi\n",
      "77788 VNQ\n"
     ]
    }
   ],
   "source": [
    "print('30001', encode(30001))\n",
    "print('55555', encode(55555))\n",
    "print('77788', encode(77788))\n"
   ]
  }
 ],
 "metadata": {
  "kernelspec": {
   "display_name": ".venv",
   "language": "python",
   "name": "python3"
  },
  "language_info": {
   "codemirror_mode": {
    "name": "ipython",
    "version": 3
   },
   "file_extension": ".py",
   "mimetype": "text/x-python",
   "name": "python",
   "nbconvert_exporter": "python",
   "pygments_lexer": "ipython3",
   "version": "3.10.8"
  },
  "orig_nbformat": 4,
  "vscode": {
   "interpreter": {
    "hash": "86b390d2d963721c669114e79bddfdd8c793298fa4fad0aa05c2fb5753f295c2"
   }
  }
 },
 "nbformat": 4,
 "nbformat_minor": 2
}
